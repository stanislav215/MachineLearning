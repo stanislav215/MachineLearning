{
  "nbformat": 4,
  "nbformat_minor": 0,
  "metadata": {
    "colab": {
      "name": "ID3.ipynb",
      "provenance": [],
      "collapsed_sections": [],
      "toc_visible": true
    },
    "kernelspec": {
      "name": "python3",
      "display_name": "Python 3"
    }
  },
  "cells": [
    {
      "cell_type": "markdown",
      "metadata": {
        "id": "owUenqlapWs4"
      },
      "source": [
        "# Libs"
      ]
    },
    {
      "cell_type": "code",
      "metadata": {
        "id": "PeJ_IXW0cSaA"
      },
      "source": [
        "import csv\n",
        "import math\n",
        "import os\n",
        "import numpy as np\n",
        "#based on: https://towardsdatascience.com/decision-trees-for-classification-id3-algorithm-explained-89df76e72df1"
      ],
      "execution_count": null,
      "outputs": []
    },
    {
      "cell_type": "markdown",
      "metadata": {
        "id": "ll1jxIukpNEO"
      },
      "source": [
        "# Working with data"
      ]
    },
    {
      "cell_type": "code",
      "metadata": {
        "id": "OEbphga4XJ-3"
      },
      "source": [
        "from google.colab import auth\n",
        "auth.authenticate_user()\n",
        "\n",
        "import gspread\n",
        "from oauth2client.client import GoogleCredentials\n",
        "def loadGsheet(name):\n",
        "    gc = gspread.authorize(GoogleCredentials.get_application_default())\n",
        "\n",
        "    worksheet = gc.open(name).sheet1\n",
        "\n",
        "    # get_all_values gives a list of rows.\n",
        "    rows =  worksheet.get_all_values()\n",
        "    headers = rows[0]\n",
        "    cols = []\n",
        "    data = {}\n",
        "    for i in range(len(headers)):\n",
        "            col = []\n",
        "            for row in rows[1:]:\n",
        "                col.append(row[i])\n",
        "            cols.append(col)\n",
        "            data.update({headers[i]:col})\n",
        "    return data"
      ],
      "execution_count": null,
      "outputs": []
    },
    {
      "cell_type": "code",
      "metadata": {
        "id": "FIpewa9Ka2Xe"
      },
      "source": [
        "def load_csv(filename):\n",
        "    fpath = os.path.join(os.getcwd(), filename)\n",
        "    fs = csv.reader(open(fpath, newline='\\n'))\n",
        "    all_row = []\n",
        "    for r in fs:\n",
        "        all_row.append(r)\n",
        "    headers = all_row[0]\n",
        "    cols = []\n",
        "    data = {}\n",
        "    for i in range(len(headers)):\n",
        "        col = []\n",
        "        for row in all_row[1:]:\n",
        "            col.append(row[i])\n",
        "        cols.append(col)\n",
        "        data.update({headers[i]:col})\n",
        "    return data"
      ],
      "execution_count": null,
      "outputs": []
    },
    {
      "cell_type": "code",
      "metadata": {
        "id": "0-JIjPpdn7zt"
      },
      "source": [
        "def getUnique(arr):\n",
        "    list_of_uniques = []\n",
        "    uniques = set(arr)\n",
        "    for u in uniques:\n",
        "        list_of_uniques.append(u)\n",
        "    return list_of_uniques"
      ],
      "execution_count": null,
      "outputs": []
    },
    {
      "cell_type": "code",
      "metadata": {
        "id": "gkpe-4Pmof-a"
      },
      "source": [
        "def getValueCounts(arr):\n",
        "    Uniques = getUnique(arr)\n",
        "    ValueCounts = {}\n",
        "    for unique in Uniques:\n",
        "        num = 0\n",
        "        for i in range(len(arr)):\n",
        "            if arr[i] == unique:\n",
        "                num = num +1\n",
        "        ValueCounts.update({unique:num})\n",
        "    return ValueCounts"
      ],
      "execution_count": null,
      "outputs": []
    },
    {
      "cell_type": "code",
      "metadata": {
        "id": "me_pnBpB8-Wq",
        "colab": {
          "base_uri": "https://localhost:8080/"
        },
        "outputId": "12e44dfe-9246-48c5-be40-8e58de2d589f"
      },
      "source": [
        "!gdown https://drive.google.com/uc?id={\"1xUNqLp4TlDOEp7KmpqN9OrJrwE23mLog\"} #stiahnutie súboru golf-dataset.csv\"\n",
        "filename = \"./golf-dataset.csv\""
      ],
      "execution_count": null,
      "outputs": [
        {
          "output_type": "stream",
          "text": [
            "Downloading...\n",
            "From: https://drive.google.com/uc?id=1xUNqLp4TlDOEp7KmpqN9OrJrwE23mLog\n",
            "To: /content/golf-dataset.csv\n",
            "\r  0% 0.00/412 [00:00<?, ?B/s]\r100% 412/412 [00:00<00:00, 819kB/s]\n"
          ],
          "name": "stdout"
        }
      ]
    },
    {
      "cell_type": "code",
      "metadata": {
        "id": "3uzQq3UZ9Vs0"
      },
      "source": [
        "filename = \"/content/drive/MyDrive/ML/golf-dataset.csv\""
      ],
      "execution_count": null,
      "outputs": []
    },
    {
      "cell_type": "code",
      "metadata": {
        "id": "gD5q2zkhcZSr"
      },
      "source": [
        "data = load_csv(filename)"
      ],
      "execution_count": null,
      "outputs": []
    },
    {
      "cell_type": "code",
      "metadata": {
        "id": "3Sq6mS6dZVFd"
      },
      "source": [
        "data = loadGsheet(\"golf-dataset\") #https://docs.google.com/spreadsheets/d/111wSlLYTpZxdoa-IoTPPgjw5GwyhhbcPqgFpSdOfx2U/edit?usp=sharing"
      ],
      "execution_count": null,
      "outputs": []
    },
    {
      "cell_type": "code",
      "metadata": {
        "colab": {
          "base_uri": "https://localhost:8080/",
          "height": 483
        },
        "id": "yEhqBeixjyhD",
        "outputId": "a3d7b7af-d5e2-492d-ffa9-7d67e41cb94d"
      },
      "source": [
        "import pandas as pd\n",
        "pd.DataFrame.from_records(data)"
      ],
      "execution_count": null,
      "outputs": [
        {
          "output_type": "execute_result",
          "data": {
            "text/html": [
              "<div>\n",
              "<style scoped>\n",
              "    .dataframe tbody tr th:only-of-type {\n",
              "        vertical-align: middle;\n",
              "    }\n",
              "\n",
              "    .dataframe tbody tr th {\n",
              "        vertical-align: top;\n",
              "    }\n",
              "\n",
              "    .dataframe thead th {\n",
              "        text-align: right;\n",
              "    }\n",
              "</style>\n",
              "<table border=\"1\" class=\"dataframe\">\n",
              "  <thead>\n",
              "    <tr style=\"text-align: right;\">\n",
              "      <th></th>\n",
              "      <th>Humidity</th>\n",
              "      <th>Outlook</th>\n",
              "      <th>Play Golf</th>\n",
              "      <th>Temp</th>\n",
              "      <th>Windy</th>\n",
              "    </tr>\n",
              "  </thead>\n",
              "  <tbody>\n",
              "    <tr>\n",
              "      <th>0</th>\n",
              "      <td>High</td>\n",
              "      <td>Rainy</td>\n",
              "      <td>Yes</td>\n",
              "      <td>Hot</td>\n",
              "      <td>FALSE</td>\n",
              "    </tr>\n",
              "    <tr>\n",
              "      <th>1</th>\n",
              "      <td>High</td>\n",
              "      <td>Rainy</td>\n",
              "      <td>Yes</td>\n",
              "      <td>Hot</td>\n",
              "      <td>TRUE</td>\n",
              "    </tr>\n",
              "    <tr>\n",
              "      <th>2</th>\n",
              "      <td>High</td>\n",
              "      <td>Overcast</td>\n",
              "      <td>Yes</td>\n",
              "      <td>Hot</td>\n",
              "      <td>FALSE</td>\n",
              "    </tr>\n",
              "    <tr>\n",
              "      <th>3</th>\n",
              "      <td>High</td>\n",
              "      <td>Sunny</td>\n",
              "      <td>Yes</td>\n",
              "      <td>Mild</td>\n",
              "      <td>FALSE</td>\n",
              "    </tr>\n",
              "    <tr>\n",
              "      <th>4</th>\n",
              "      <td>Normal</td>\n",
              "      <td>Sunny</td>\n",
              "      <td>Yes</td>\n",
              "      <td>Cool</td>\n",
              "      <td>FALSE</td>\n",
              "    </tr>\n",
              "    <tr>\n",
              "      <th>5</th>\n",
              "      <td>Normal</td>\n",
              "      <td>Sunny</td>\n",
              "      <td>No</td>\n",
              "      <td>Cool</td>\n",
              "      <td>TRUE</td>\n",
              "    </tr>\n",
              "    <tr>\n",
              "      <th>6</th>\n",
              "      <td>Normal</td>\n",
              "      <td>Overcast</td>\n",
              "      <td>Yes</td>\n",
              "      <td>Cool</td>\n",
              "      <td>TRUE</td>\n",
              "    </tr>\n",
              "    <tr>\n",
              "      <th>7</th>\n",
              "      <td>High</td>\n",
              "      <td>Rainy</td>\n",
              "      <td>No</td>\n",
              "      <td>Mild</td>\n",
              "      <td>FALSE</td>\n",
              "    </tr>\n",
              "    <tr>\n",
              "      <th>8</th>\n",
              "      <td>Normal</td>\n",
              "      <td>Rainy</td>\n",
              "      <td>Yes</td>\n",
              "      <td>Cool</td>\n",
              "      <td>FALSE</td>\n",
              "    </tr>\n",
              "    <tr>\n",
              "      <th>9</th>\n",
              "      <td>Normal</td>\n",
              "      <td>Sunny</td>\n",
              "      <td>Yes</td>\n",
              "      <td>Mild</td>\n",
              "      <td>FALSE</td>\n",
              "    </tr>\n",
              "    <tr>\n",
              "      <th>10</th>\n",
              "      <td>Normal</td>\n",
              "      <td>Rainy</td>\n",
              "      <td>Yes</td>\n",
              "      <td>Mild</td>\n",
              "      <td>TRUE</td>\n",
              "    </tr>\n",
              "    <tr>\n",
              "      <th>11</th>\n",
              "      <td>High</td>\n",
              "      <td>Overcast</td>\n",
              "      <td>Yes</td>\n",
              "      <td>Mild</td>\n",
              "      <td>TRUE</td>\n",
              "    </tr>\n",
              "    <tr>\n",
              "      <th>12</th>\n",
              "      <td>Normal</td>\n",
              "      <td>Overcast</td>\n",
              "      <td>Yes</td>\n",
              "      <td>Hot</td>\n",
              "      <td>FALSE</td>\n",
              "    </tr>\n",
              "    <tr>\n",
              "      <th>13</th>\n",
              "      <td>High</td>\n",
              "      <td>Sunny</td>\n",
              "      <td>No</td>\n",
              "      <td>Mild</td>\n",
              "      <td>TRUE</td>\n",
              "    </tr>\n",
              "  </tbody>\n",
              "</table>\n",
              "</div>"
            ],
            "text/plain": [
              "   Humidity   Outlook Play Golf  Temp  Windy\n",
              "0      High     Rainy       Yes   Hot  FALSE\n",
              "1      High     Rainy       Yes   Hot   TRUE\n",
              "2      High  Overcast       Yes   Hot  FALSE\n",
              "3      High     Sunny       Yes  Mild  FALSE\n",
              "4    Normal     Sunny       Yes  Cool  FALSE\n",
              "5    Normal     Sunny        No  Cool   TRUE\n",
              "6    Normal  Overcast       Yes  Cool   TRUE\n",
              "7      High     Rainy        No  Mild  FALSE\n",
              "8    Normal     Rainy       Yes  Cool  FALSE\n",
              "9    Normal     Sunny       Yes  Mild  FALSE\n",
              "10   Normal     Rainy       Yes  Mild   TRUE\n",
              "11     High  Overcast       Yes  Mild   TRUE\n",
              "12   Normal  Overcast       Yes   Hot  FALSE\n",
              "13     High     Sunny        No  Mild   TRUE"
            ]
          },
          "metadata": {
            "tags": []
          },
          "execution_count": 27
        }
      ]
    },
    {
      "cell_type": "markdown",
      "metadata": {
        "id": "gB4n-13tobnI"
      },
      "source": [
        "# Algorithm"
      ]
    },
    {
      "cell_type": "markdown",
      "metadata": {
        "id": "TfMj53OZoWRV"
      },
      "source": [
        "## Entropy of space\n",
        "\n",
        ">$H\\left(S\\right)=\\sum\\limits_{x\\:∈\\:X}\\:-p\\left(x\\right)\\log _2p\\left(x\\right)$\n",
        "\n",
        "\n",
        "*   S – The current dataset for which entropy is being calculated \n",
        "*   X – The set of classes in S\n",
        "*   p(x) – The proportion of the number of elements in class x to the number of elements in set S\n",
        "\n"
      ]
    },
    {
      "cell_type": "code",
      "metadata": {
        "id": "3l96upLUrIJE"
      },
      "source": [
        "def log2(num):\n",
        "    return (math.log(num,2) if num != 0 else 0)"
      ],
      "execution_count": null,
      "outputs": []
    },
    {
      "cell_type": "code",
      "metadata": {
        "id": "nWhFT2epoKX6"
      },
      "source": [
        "def find_entropy(data):\n",
        "    Class = list(data.keys())[-1] # hlavný atribút s triedamy\n",
        "    entropy = 0 # na zažiatku je entropia 0\n",
        "    values = getUnique(data[Class]) # jednotlivé triedy\n",
        "    for value in values: # iterácia cez počet tried\n",
        "        fraction =getValueCounts(data[Class])[value]/len(data[Class]) # akú časť z celku tvorí daná trieda\n",
        "        entropy += -fraction*log2(fraction) #výpočet entropie podla vzorca dole\n",
        "    return entropy"
      ],
      "execution_count": null,
      "outputs": []
    },
    {
      "cell_type": "markdown",
      "metadata": {
        "id": "W7pz5S9SpBRk"
      },
      "source": [
        "## Entropy of atribute\n",
        "> $H\\left(S,atrib\\right)=\\sum\\limits_{i} \\:p\\left(atrib_i\\right)\\cdot H\\left(atrib_i\\right)$\n",
        "\n"
      ]
    },
    {
      "cell_type": "code",
      "metadata": {
        "id": "TNnyx1yiq4fE"
      },
      "source": [
        "def getNum(atribArr,variable,classArr,target_variable):\n",
        "    counter = 0\n",
        "    for i in range(0,len(atribArr)):\n",
        "        if atribArr[i] == variable and classArr[i] == target_variable:\n",
        "            counter = counter + 1\n",
        "    return counter\n",
        "\n",
        "def getDen(atribArr,variable):\n",
        "    counter = 0\n",
        "    for i in range(len(atribArr)):\n",
        "        if atribArr[i] == variable:\n",
        "            counter = counter + 1\n",
        "    return counter\n",
        "def find_entropy_attribute(df,attribute):# výpočet entropie atribútu\n",
        "  Class = list(df.keys())[-1]   # hlavný atribút s triedamy\n",
        "  target_variables = getUnique(df[Class])  # jednotlivé triedy\n",
        "  variables = getUnique(df[attribute])    # jednotlivé možnosti v atribútoch\n",
        "  entropy2 = 0 # na zažiatku je entropia atributu 0\n",
        "  for variable in variables: #iterácia cez možnosti atribútov\n",
        "      entropy = 0 # na začiatku je entropia jednej z možnosti atributov 0\n",
        "      for target_variable in target_variables:#iterácia cez počet tried\n",
        "          num = getNum(df[attribute],variable,df[Class],target_variable)# počet prípadov jednej možnosti atributov, ktoré sa rovnajú danej triede v iterácii \n",
        "          den = getDen(df[attribute],variable)#  počet prípadov jednej možnosti atributov\n",
        "          fraction = num/(den) # podiel počet prípadov danej možnosti atributov\n",
        "          entropy += -fraction*log2(fraction) #entropia jednej z možností atribútov\n",
        "      fraction2 = den/len(df[Class]) # podiel jednej možnosti z atribov ku všetky možnostiam\n",
        "      entropy2 += fraction2*entropy # vysledná etropia\n",
        "  return entropy2"
      ],
      "execution_count": null,
      "outputs": []
    },
    {
      "cell_type": "code",
      "metadata": {
        "id": "6ySVA7Z01AV2"
      },
      "source": [
        "def getArgmax(arr):\n",
        "    Savemax = 0\n",
        "    saveIndex = 0\n",
        "    for index in range(len(arr)):\n",
        "        if arr[index] > Savemax:\n",
        "            Savemax = arr[index]\n",
        "            saveIndex = index\n",
        "    return saveIndex\n",
        "def find_winner(df):\n",
        "    Entropy_att = []\n",
        "    IG = []\n",
        "    for key in list(df.keys())[:-1]:\n",
        "        IG.append(find_entropy(df)-find_entropy_attribute(df,key))\n",
        "    return list(data.keys())[:-1][getArgmax(IG)]"
      ],
      "execution_count": null,
      "outputs": []
    },
    {
      "cell_type": "markdown",
      "metadata": {
        "id": "eR0FG0UKpIUE"
      },
      "source": [
        "##  Building Tree"
      ]
    },
    {
      "cell_type": "code",
      "metadata": {
        "id": "C9lmeA-l21E1"
      },
      "source": [
        "def getSubTable(data, atrb,value):\n",
        "    newData = data.copy()\n",
        "    indices = []\n",
        "    for i in range(0,len(atrb)):\n",
        "        if atrb[i] == value:\n",
        "            indices.append(i)\n",
        "    for key in data.keys():\n",
        "        newData[key] = [i for j, i in enumerate(newData[key]) if j in indices]\n",
        "    return newData\n",
        "\n",
        "def fit(df,tree=None):\n",
        "    Class = list(data.keys())[-1] #Triedy\n",
        "    \n",
        "    node = find_winner(df) #hľadanie najlepšiehp atribútu podĺa IG\n",
        "    \n",
        "    attValue = getUnique(df[node])\n",
        "    \n",
        "    #vytvorenie stromu na začiatku\n",
        "    if tree is None:                    \n",
        "        tree={}\n",
        "        tree[node] = {}\n",
        "\n",
        "    # vytvorenie cyklu na konštrukciu stromu volaním funkcie rekurzivne \n",
        "    for value in attValue:\n",
        "        #print(value,node)\n",
        "        subtable = getSubTable(df,df[node],value)\n",
        "\n",
        "        clValue,counts = np.unique(subtable[Class],return_counts=True)                       \n",
        "        \n",
        "        if len(counts)==1: #ak subset obsahuje iba jednu triedu tak končíme\n",
        "\n",
        "            tree[node][value] = clValue[0]                                                    \n",
        "        else:        \n",
        "            tree[node][value] = fit(subtable) # Ak nebosahuje jednu triedu tak volam funkciu rekurzívne\n",
        "                   \n",
        "    return tree"
      ],
      "execution_count": null,
      "outputs": []
    },
    {
      "cell_type": "markdown",
      "metadata": {
        "id": "ZRIVFplmTrHs"
      },
      "source": [
        "## Predict"
      ]
    },
    {
      "cell_type": "code",
      "metadata": {
        "id": "8ZV3DaM0KE8n"
      },
      "source": [
        "def predict(inst,tree):\n",
        "    Class = None\n",
        "    prediction = None\n",
        "    #Rekurzivný prechod stromom\n",
        "    for nodes in tree.keys():        \n",
        "        value = inst[nodes][0]\n",
        "        if value in list(tree[nodes]): \n",
        "            tree = tree[nodes][value] #ak sa hodnota nachádza vo vetve stromu, tak ju použije\n",
        "        else:\n",
        "            prediction = Class \n",
        "            break;\n",
        "        prediction = Class\n",
        "            \n",
        "        if type(tree) is dict: # prechádzanie rekurzívne stromom pokiaľ je dict\n",
        "            prediction = predict(inst, tree)\n",
        "        else:\n",
        "            prediction = tree\n",
        "            break;                            \n",
        "    return prediction"
      ],
      "execution_count": null,
      "outputs": []
    },
    {
      "cell_type": "code",
      "metadata": {
        "id": "cP9PApy3iAGa"
      },
      "source": [
        "import pydot\n",
        "from graphviz import Digraph\n",
        "def printTreePretty(tree,data):\n",
        "    labels = getUnique(data[list(data.keys())[-1]])\n",
        "    print(\"Target atribute classes: {}\".format(labels))\n",
        "    atributes = list(data.keys())[0:-1]\n",
        "    print(\"Atributes : {}\".format(atributes))\n",
        "\n",
        "    def draw(parent_name, child_name,labels,atributes):\n",
        "        for atrib in atributes:\n",
        "            if str(str(parent_name)) == atrib:\n",
        "                dot.node(str(parent_name),style='filled',fillcolor='#78BED4')\n",
        "        for label in labels:\n",
        "            if str(str(child_name)) == label:\n",
        "                dot.node(str(child_name),style='filled',fillcolor=\"#E79576\")\n",
        "\n",
        "        dot.edge(str(parent_name),str(child_name))\n",
        "\n",
        "    def visit(node,labels,atributes, parent=None):\n",
        "        for k,v in node.items():\n",
        "            if isinstance(v, dict):\n",
        "                # We start with the root node whose parent is None\n",
        "                # we don't want to graph the None node\n",
        "                if parent:\n",
        "                    draw(parent, k,labels,atributes)\n",
        "                visit(v,labels,atributes, k)\n",
        "            else:\n",
        "                draw(parent, k,labels,atributes)\n",
        "                # drawing the label using a distinct name\n",
        "                draw(k, v,labels,atributes)\n",
        "\n",
        "    #graph = pydot.Dot(graph_type='graph')\n",
        "    dot = Digraph(comment='The Round Table')\n",
        "    visit(tree,labels,atributes)\n",
        "    #graph.write_png('example1_graph.png')\n",
        "    return dot"
      ],
      "execution_count": null,
      "outputs": []
    },
    {
      "cell_type": "markdown",
      "metadata": {
        "id": "RNh2Iyuqoiot"
      },
      "source": [
        "# Testing and visualizing"
      ]
    },
    {
      "cell_type": "code",
      "metadata": {
        "colab": {
          "base_uri": "https://localhost:8080/",
          "height": 690
        },
        "id": "iaSAB_vHWMz-",
        "outputId": "28152409-b25c-4cf2-bf87-41dac190c100"
      },
      "source": [
        "tree = fit(data)\n",
        "printTreePretty(tree,data)"
      ],
      "execution_count": null,
      "outputs": [
        {
          "output_type": "stream",
          "text": [
            "Target atribute classes: ['Yes', 'No']\n",
            "Atributes : ['Outlook', 'Temp', 'Humidity', 'Windy']\n"
          ],
          "name": "stdout"
        },
        {
          "output_type": "execute_result",
          "data": {
            "text/plain": [
              "<graphviz.dot.Digraph at 0x7fc06135ba90>"
            ],
            "image/svg+xml": "<?xml version=\"1.0\" encoding=\"UTF-8\" standalone=\"no\"?>\n<!DOCTYPE svg PUBLIC \"-//W3C//DTD SVG 1.1//EN\"\n \"http://www.w3.org/Graphics/SVG/1.1/DTD/svg11.dtd\">\n<!-- Generated by graphviz version 2.40.1 (20161225.0304)\n -->\n<!-- Title: %3 Pages: 1 -->\n<svg width=\"488pt\" height=\"476pt\"\n viewBox=\"0.00 0.00 487.64 476.00\" xmlns=\"http://www.w3.org/2000/svg\" xmlns:xlink=\"http://www.w3.org/1999/xlink\">\n<g id=\"graph0\" class=\"graph\" transform=\"scale(1 1) rotate(0) translate(4 472)\">\n<title>%3</title>\n<polygon fill=\"#ffffff\" stroke=\"transparent\" points=\"-4,4 -4,-472 483.643,-472 483.643,4 -4,4\"/>\n<!-- Outlook -->\n<g id=\"node1\" class=\"node\">\n<title>Outlook</title>\n<ellipse fill=\"#78bed4\" stroke=\"#000000\" cx=\"332.7468\" cy=\"-450\" rx=\"42.4939\" ry=\"18\"/>\n<text text-anchor=\"middle\" x=\"332.7468\" y=\"-446.3\" font-family=\"Times,serif\" font-size=\"14.00\" fill=\"#000000\">Outlook</text>\n</g>\n<!-- Rainy -->\n<g id=\"node2\" class=\"node\">\n<title>Rainy</title>\n<ellipse fill=\"none\" stroke=\"#000000\" cx=\"332.7468\" cy=\"-378\" rx=\"33.2948\" ry=\"18\"/>\n<text text-anchor=\"middle\" x=\"332.7468\" y=\"-374.3\" font-family=\"Times,serif\" font-size=\"14.00\" fill=\"#000000\">Rainy</text>\n</g>\n<!-- Outlook&#45;&gt;Rainy -->\n<g id=\"edge1\" class=\"edge\">\n<title>Outlook&#45;&gt;Rainy</title>\n<path fill=\"none\" stroke=\"#000000\" d=\"M332.7468,-431.8314C332.7468,-424.131 332.7468,-414.9743 332.7468,-406.4166\"/>\n<polygon fill=\"#000000\" stroke=\"#000000\" points=\"336.2469,-406.4132 332.7468,-396.4133 329.2469,-406.4133 336.2469,-406.4132\"/>\n</g>\n<!-- Sunny -->\n<g id=\"node12\" class=\"node\">\n<title>Sunny</title>\n<ellipse fill=\"none\" stroke=\"#000000\" cx=\"190.7468\" cy=\"-306\" rx=\"35.9954\" ry=\"18\"/>\n<text text-anchor=\"middle\" x=\"190.7468\" y=\"-302.3\" font-family=\"Times,serif\" font-size=\"14.00\" fill=\"#000000\">Sunny</text>\n</g>\n<!-- Outlook&#45;&gt;Sunny -->\n<g id=\"edge13\" class=\"edge\">\n<title>Outlook&#45;&gt;Sunny</title>\n<path fill=\"none\" stroke=\"#000000\" d=\"M316.1797,-433.1995C290.928,-407.5922 242.7186,-358.7038 213.9804,-329.5608\"/>\n<polygon fill=\"#000000\" stroke=\"#000000\" points=\"216.2865,-326.9146 206.7729,-322.2518 211.3022,-331.8297 216.2865,-326.9146\"/>\n</g>\n<!-- Overcast -->\n<g id=\"node16\" class=\"node\">\n<title>Overcast</title>\n<ellipse fill=\"none\" stroke=\"#000000\" cx=\"436.7468\" cy=\"-378\" rx=\"42.7926\" ry=\"18\"/>\n<text text-anchor=\"middle\" x=\"436.7468\" y=\"-374.3\" font-family=\"Times,serif\" font-size=\"14.00\" fill=\"#000000\">Overcast</text>\n</g>\n<!-- Outlook&#45;&gt;Overcast -->\n<g id=\"edge19\" class=\"edge\">\n<title>Outlook&#45;&gt;Overcast</title>\n<path fill=\"none\" stroke=\"#000000\" d=\"M355.0574,-434.5542C369.863,-424.3042 389.4976,-410.711 405.8065,-399.4202\"/>\n<polygon fill=\"#000000\" stroke=\"#000000\" points=\"408.2434,-401.9901 414.4731,-393.4203 404.2589,-396.2347 408.2434,-401.9901\"/>\n</g>\n<!-- Temp -->\n<g id=\"node3\" class=\"node\">\n<title>Temp</title>\n<ellipse fill=\"#78bed4\" stroke=\"#000000\" cx=\"332.7468\" cy=\"-306\" rx=\"32.4942\" ry=\"18\"/>\n<text text-anchor=\"middle\" x=\"332.7468\" y=\"-302.3\" font-family=\"Times,serif\" font-size=\"14.00\" fill=\"#000000\">Temp</text>\n</g>\n<!-- Rainy&#45;&gt;Temp -->\n<g id=\"edge2\" class=\"edge\">\n<title>Rainy&#45;&gt;Temp</title>\n<path fill=\"none\" stroke=\"#000000\" d=\"M332.7468,-359.8314C332.7468,-352.131 332.7468,-342.9743 332.7468,-334.4166\"/>\n<polygon fill=\"#000000\" stroke=\"#000000\" points=\"336.2469,-334.4132 332.7468,-324.4133 329.2469,-334.4133 336.2469,-334.4132\"/>\n</g>\n<!-- Mild -->\n<g id=\"node4\" class=\"node\">\n<title>Mild</title>\n<ellipse fill=\"none\" stroke=\"#000000\" cx=\"268.7468\" cy=\"-234\" rx=\"28.6953\" ry=\"18\"/>\n<text text-anchor=\"middle\" x=\"268.7468\" y=\"-230.3\" font-family=\"Times,serif\" font-size=\"14.00\" fill=\"#000000\">Mild</text>\n</g>\n<!-- Temp&#45;&gt;Mild -->\n<g id=\"edge3\" class=\"edge\">\n<title>Temp&#45;&gt;Mild</title>\n<path fill=\"none\" stroke=\"#000000\" d=\"M318.2242,-289.6621C309.7602,-280.1401 298.943,-267.9707 289.5828,-257.4405\"/>\n<polygon fill=\"#000000\" stroke=\"#000000\" points=\"292.0317,-254.9273 282.7721,-249.7784 286.7998,-259.5779 292.0317,-254.9273\"/>\n</g>\n<!-- Hot -->\n<g id=\"node10\" class=\"node\">\n<title>Hot</title>\n<ellipse fill=\"none\" stroke=\"#000000\" cx=\"353.7468\" cy=\"-162\" rx=\"27\" ry=\"18\"/>\n<text text-anchor=\"middle\" x=\"353.7468\" y=\"-158.3\" font-family=\"Times,serif\" font-size=\"14.00\" fill=\"#000000\">Hot</text>\n</g>\n<!-- Temp&#45;&gt;Hot -->\n<g id=\"edge9\" class=\"edge\">\n<title>Temp&#45;&gt;Hot</title>\n<path fill=\"none\" stroke=\"#000000\" d=\"M335.364,-288.0535C338.948,-263.4774 345.4196,-219.1008 349.6493,-190.0974\"/>\n<polygon fill=\"#000000\" stroke=\"#000000\" points=\"353.1169,-190.5731 351.0966,-180.1727 346.1901,-189.5629 353.1169,-190.5731\"/>\n</g>\n<!-- Cool -->\n<g id=\"node11\" class=\"node\">\n<title>Cool</title>\n<ellipse fill=\"none\" stroke=\"#000000\" cx=\"389.7468\" cy=\"-234\" rx=\"29.4969\" ry=\"18\"/>\n<text text-anchor=\"middle\" x=\"389.7468\" y=\"-230.3\" font-family=\"Times,serif\" font-size=\"14.00\" fill=\"#000000\">Cool</text>\n</g>\n<!-- Temp&#45;&gt;Cool -->\n<g id=\"edge11\" class=\"edge\">\n<title>Temp&#45;&gt;Cool</title>\n<path fill=\"none\" stroke=\"#000000\" d=\"M345.967,-289.3008C353.1612,-280.2135 362.1995,-268.7966 370.193,-258.6996\"/>\n<polygon fill=\"#000000\" stroke=\"#000000\" points=\"373.1354,-260.6216 376.5983,-250.6087 367.6471,-256.2767 373.1354,-260.6216\"/>\n</g>\n<!-- Humidity -->\n<g id=\"node5\" class=\"node\">\n<title>Humidity</title>\n<ellipse fill=\"#78bed4\" stroke=\"#000000\" cx=\"261.7468\" cy=\"-162\" rx=\"46.5926\" ry=\"18\"/>\n<text text-anchor=\"middle\" x=\"261.7468\" y=\"-158.3\" font-family=\"Times,serif\" font-size=\"14.00\" fill=\"#000000\">Humidity</text>\n</g>\n<!-- Mild&#45;&gt;Humidity -->\n<g id=\"edge4\" class=\"edge\">\n<title>Mild&#45;&gt;Humidity</title>\n<path fill=\"none\" stroke=\"#000000\" d=\"M266.9804,-215.8314C266.2318,-208.131 265.3416,-198.9743 264.5096,-190.4166\"/>\n<polygon fill=\"#000000\" stroke=\"#000000\" points=\"267.9883,-190.0276 263.537,-180.4133 261.0212,-190.7051 267.9883,-190.0276\"/>\n</g>\n<!-- Normal -->\n<g id=\"node6\" class=\"node\">\n<title>Normal</title>\n<ellipse fill=\"none\" stroke=\"#000000\" cx=\"303.7468\" cy=\"-90\" rx=\"38.9931\" ry=\"18\"/>\n<text text-anchor=\"middle\" x=\"303.7468\" y=\"-86.3\" font-family=\"Times,serif\" font-size=\"14.00\" fill=\"#000000\">Normal</text>\n</g>\n<!-- Humidity&#45;&gt;Normal -->\n<g id=\"edge5\" class=\"edge\">\n<title>Humidity&#45;&gt;Normal</title>\n<path fill=\"none\" stroke=\"#000000\" d=\"M272.1289,-144.2022C277.0115,-135.832 282.9334,-125.6802 288.3261,-116.4356\"/>\n<polygon fill=\"#000000\" stroke=\"#000000\" points=\"291.4687,-117.9944 293.4842,-107.593 285.4222,-114.4673 291.4687,-117.9944\"/>\n</g>\n<!-- High -->\n<g id=\"node8\" class=\"node\">\n<title>High</title>\n<ellipse fill=\"none\" stroke=\"#000000\" cx=\"216.7468\" cy=\"-90\" rx=\"29.795\" ry=\"18\"/>\n<text text-anchor=\"middle\" x=\"216.7468\" y=\"-86.3\" font-family=\"Times,serif\" font-size=\"14.00\" fill=\"#000000\">High</text>\n</g>\n<!-- Humidity&#45;&gt;High -->\n<g id=\"edge7\" class=\"edge\">\n<title>Humidity&#45;&gt;High</title>\n<path fill=\"none\" stroke=\"#000000\" d=\"M250.6232,-144.2022C245.2584,-135.6186 238.7226,-125.1613 232.8282,-115.7303\"/>\n<polygon fill=\"#000000\" stroke=\"#000000\" points=\"235.7006,-113.7222 227.4326,-107.0972 229.7646,-117.4322 235.7006,-113.7222\"/>\n</g>\n<!-- Yes -->\n<g id=\"node7\" class=\"node\">\n<title>Yes</title>\n<ellipse fill=\"#e79576\" stroke=\"#000000\" cx=\"370.7468\" cy=\"-18\" rx=\"27\" ry=\"18\"/>\n<text text-anchor=\"middle\" x=\"370.7468\" y=\"-14.3\" font-family=\"Times,serif\" font-size=\"14.00\" fill=\"#000000\">Yes</text>\n</g>\n<!-- Normal&#45;&gt;Yes -->\n<g id=\"edge6\" class=\"edge\">\n<title>Normal&#45;&gt;Yes</title>\n<path fill=\"none\" stroke=\"#000000\" d=\"M319.2864,-73.3008C328.1582,-63.7669 339.4161,-51.6689 349.1384,-41.221\"/>\n<polygon fill=\"#000000\" stroke=\"#000000\" points=\"351.9587,-43.328 356.2088,-33.6229 346.8342,-38.5593 351.9587,-43.328\"/>\n</g>\n<!-- No -->\n<g id=\"node9\" class=\"node\">\n<title>No</title>\n<ellipse fill=\"#e79576\" stroke=\"#000000\" cx=\"126.7468\" cy=\"-18\" rx=\"27\" ry=\"18\"/>\n<text text-anchor=\"middle\" x=\"126.7468\" y=\"-14.3\" font-family=\"Times,serif\" font-size=\"14.00\" fill=\"#000000\">No</text>\n</g>\n<!-- High&#45;&gt;No -->\n<g id=\"edge8\" class=\"edge\">\n<title>High&#45;&gt;No</title>\n<path fill=\"none\" stroke=\"#000000\" d=\"M198.534,-75.4297C185.3094,-64.8501 167.232,-50.3881 152.5266,-38.6238\"/>\n<polygon fill=\"#000000\" stroke=\"#000000\" points=\"154.3152,-35.5725 144.3201,-32.0586 149.9423,-41.0386 154.3152,-35.5725\"/>\n</g>\n<!-- Hot&#45;&gt;Yes -->\n<g id=\"edge10\" class=\"edge\">\n<title>Hot&#45;&gt;Yes</title>\n<path fill=\"none\" stroke=\"#000000\" d=\"M355.8655,-144.0535C358.7541,-119.5852 363.9599,-75.4896 367.3846,-46.4799\"/>\n<polygon fill=\"#000000\" stroke=\"#000000\" points=\"370.9048,-46.5141 368.6014,-36.1727 363.9531,-45.6934 370.9048,-46.5141\"/>\n</g>\n<!-- Cool&#45;&gt;Yes -->\n<g id=\"edge12\" class=\"edge\">\n<title>Cool&#45;&gt;Yes</title>\n<path fill=\"none\" stroke=\"#000000\" d=\"M390.5468,-215.6985C391.1544,-197.4924 391.6042,-168.7742 389.7468,-144 387.1998,-110.027 380.8415,-71.3312 376.1791,-45.8888\"/>\n<polygon fill=\"#000000\" stroke=\"#000000\" points=\"379.58,-45.0346 374.3008,-35.8487 372.6994,-46.3219 379.58,-45.0346\"/>\n</g>\n<!-- Windy -->\n<g id=\"node13\" class=\"node\">\n<title>Windy</title>\n<ellipse fill=\"#78bed4\" stroke=\"#000000\" cx=\"128.7468\" cy=\"-162\" rx=\"36.2938\" ry=\"18\"/>\n<text text-anchor=\"middle\" x=\"128.7468\" y=\"-158.3\" font-family=\"Times,serif\" font-size=\"14.00\" fill=\"#000000\">Windy</text>\n</g>\n<!-- Sunny&#45;&gt;Windy -->\n<g id=\"edge14\" class=\"edge\">\n<title>Sunny&#45;&gt;Windy</title>\n<path fill=\"none\" stroke=\"#000000\" d=\"M183.1444,-288.3428C172.5,-263.6202 153.0564,-218.4608 140.5285,-189.3639\"/>\n<polygon fill=\"#000000\" stroke=\"#000000\" points=\"143.5808,-187.6024 136.4114,-179.8017 137.1514,-190.3706 143.5808,-187.6024\"/>\n</g>\n<!-- TRUE -->\n<g id=\"node14\" class=\"node\">\n<title>TRUE</title>\n<ellipse fill=\"none\" stroke=\"#000000\" cx=\"35.7468\" cy=\"-90\" rx=\"35.9954\" ry=\"18\"/>\n<text text-anchor=\"middle\" x=\"35.7468\" y=\"-86.3\" font-family=\"Times,serif\" font-size=\"14.00\" fill=\"#000000\">TRUE</text>\n</g>\n<!-- Windy&#45;&gt;TRUE -->\n<g id=\"edge15\" class=\"edge\">\n<title>Windy&#45;&gt;TRUE</title>\n<path fill=\"none\" stroke=\"#000000\" d=\"M109.0239,-146.7307C95.8308,-136.5166 78.2752,-122.9252 63.6551,-111.6064\"/>\n<polygon fill=\"#000000\" stroke=\"#000000\" points=\"65.4912,-108.6016 55.4413,-105.2473 61.2059,-114.1366 65.4912,-108.6016\"/>\n</g>\n<!-- FALSE -->\n<g id=\"node15\" class=\"node\">\n<title>FALSE</title>\n<ellipse fill=\"none\" stroke=\"#000000\" cx=\"128.7468\" cy=\"-90\" rx=\"39.7935\" ry=\"18\"/>\n<text text-anchor=\"middle\" x=\"128.7468\" y=\"-86.3\" font-family=\"Times,serif\" font-size=\"14.00\" fill=\"#000000\">FALSE</text>\n</g>\n<!-- Windy&#45;&gt;FALSE -->\n<g id=\"edge17\" class=\"edge\">\n<title>Windy&#45;&gt;FALSE</title>\n<path fill=\"none\" stroke=\"#000000\" d=\"M128.7468,-143.8314C128.7468,-136.131 128.7468,-126.9743 128.7468,-118.4166\"/>\n<polygon fill=\"#000000\" stroke=\"#000000\" points=\"132.2469,-118.4132 128.7468,-108.4133 125.2469,-118.4133 132.2469,-118.4132\"/>\n</g>\n<!-- TRUE&#45;&gt;No -->\n<g id=\"edge16\" class=\"edge\">\n<title>TRUE&#45;&gt;No</title>\n<path fill=\"none\" stroke=\"#000000\" d=\"M55.0456,-74.7307C68.4783,-64.1025 86.5328,-49.8177 101.164,-38.2413\"/>\n<polygon fill=\"#000000\" stroke=\"#000000\" points=\"103.6517,-40.7361 109.3222,-31.7865 99.3083,-35.2466 103.6517,-40.7361\"/>\n</g>\n<!-- FALSE&#45;&gt;Yes -->\n<g id=\"edge18\" class=\"edge\">\n<title>FALSE&#45;&gt;Yes</title>\n<path fill=\"none\" stroke=\"#000000\" d=\"M159.1991,-78.3896C165.3109,-76.1793 171.71,-73.95 177.7468,-72 232.3029,-54.3779 296.5866,-37.0692 335.4733,-26.9711\"/>\n<polygon fill=\"#000000\" stroke=\"#000000\" points=\"336.4581,-30.3317 345.2648,-24.4416 334.7072,-23.5542 336.4581,-30.3317\"/>\n</g>\n<!-- Overcast&#45;&gt;Yes -->\n<g id=\"edge20\" class=\"edge\">\n<title>Overcast&#45;&gt;Yes</title>\n<path fill=\"none\" stroke=\"#000000\" d=\"M438.8188,-359.8427C441.7479,-332.5621 446.7468,-279.359 446.7468,-234 446.7468,-234 446.7468,-234 446.7468,-162 446.7468,-114.8627 414.5016,-68.0366 392.0181,-41.1156\"/>\n<polygon fill=\"#000000\" stroke=\"#000000\" points=\"394.5748,-38.7207 385.4004,-33.4216 389.2678,-43.2854 394.5748,-38.7207\"/>\n</g>\n</g>\n</svg>\n"
          },
          "metadata": {
            "tags": []
          },
          "execution_count": 28
        }
      ]
    },
    {
      "cell_type": "code",
      "metadata": {
        "id": "jJ5YgQVqbtWG"
      },
      "source": [
        "from pprint import pprint\n",
        "pprint(tree)"
      ],
      "execution_count": null,
      "outputs": []
    },
    {
      "cell_type": "code",
      "metadata": {
        "colab": {
          "base_uri": "https://localhost:8080/"
        },
        "id": "hQs-kMO6LVHf",
        "outputId": "88e008e6-8d5d-4289-a76a-27fea9bc664c"
      },
      "source": [
        "test = \\\n",
        "{\"Outlook\"  : [\"Sunny\"],\n",
        " \"Temp\"     : [\"Hot\"],\n",
        " \"Humidity\" : [\"Normal\"],\n",
        " \"Windy\"    : [\"FALSE\"],\n",
        " \"Play Golf\": [\"No\"]\n",
        " }\n",
        "print(test)"
      ],
      "execution_count": null,
      "outputs": [
        {
          "output_type": "stream",
          "text": [
            "{'Outlook': ['Sunny'], 'Temp': ['Hot'], 'Humidity': ['Normal'], 'Windy': ['FALSE'], 'Play Golf': ['No']}\n"
          ],
          "name": "stdout"
        }
      ]
    },
    {
      "cell_type": "code",
      "metadata": {
        "colab": {
          "base_uri": "https://localhost:8080/"
        },
        "id": "07foHeoyT0oP",
        "outputId": "2db6d2e9-5d27-43e0-fd30-d43d6fc36f1a"
      },
      "source": [
        "print(predict(test,tree))"
      ],
      "execution_count": null,
      "outputs": [
        {
          "output_type": "stream",
          "text": [
            "Yes\n"
          ],
          "name": "stdout"
        }
      ]
    }
  ]
}